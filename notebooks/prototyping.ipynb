{
 "cells": [
  {
   "cell_type": "code",
   "execution_count": 1,
   "metadata": {},
   "outputs": [
    {
     "data": {
      "text/plain": [
       "True"
      ]
     },
     "execution_count": 1,
     "metadata": {},
     "output_type": "execute_result"
    }
   ],
   "source": [
    "import os\n",
    "from dotenv import load_dotenv\n",
    "\n",
    "load_dotenv(override=True)"
   ]
  },
  {
   "cell_type": "code",
   "execution_count": 2,
   "metadata": {},
   "outputs": [],
   "source": [
    "from openai import OpenAI\n",
    "\n",
    "client = OpenAI(\n",
    "    api_key=os.getenv(\"LLM_API_KEY\"), \n",
    "    base_url=os.getenv(\"LLM_BASE_URL\"),\n",
    ")"
   ]
  },
  {
   "cell_type": "code",
   "execution_count": 3,
   "metadata": {},
   "outputs": [],
   "source": [
    "response = client.chat.completions.create(\n",
    "    messages=[\n",
    "        {\"role\": \"user\", \"content\": \"What is the colour of a rose?\"}\n",
    "    ],\n",
    "    temperature=0.1,\n",
    "    model=os.getenv(\"LLM_MODEL_NAME\")\n",
    ")"
   ]
  },
  {
   "cell_type": "code",
   "execution_count": 6,
   "metadata": {},
   "outputs": [
    {
     "name": "stdout",
     "output_type": "stream",
     "text": [
      "<think>\n",
      "Okay, so I need to figure out the color of a rose. Hmm, I know that roses come in different colors, but I'm not entirely sure about all the possibilities. Let me think about this step by step.\n",
      "\n",
      "First, the most common color I associate with roses is red. I've seen red roses in bouquets, in gardens, and they're often used for Valentine's Day or to express love. So red is definitely a color roses can be.\n",
      "\n",
      "But wait, I've also seen other colors. There are pink roses, right? I think pink roses are pretty common too. They might symbolize different things, like friendship or appreciation. So pink is another color.\n",
      "\n",
      "What about white roses? I remember seeing white roses at weddings. They might symbolize purity or innocence. So white is another color.\n",
      "\n",
      "I think there are also yellow roses. I've seen those in some arrangements. They might represent happiness or celebration. So yellow is another color.\n",
      "\n",
      "Are there more colors? I'm trying to recall. I think I've heard of orange roses before. They might be a mix between red and yellow, so maybe they symbolize passion or excitement. So orange is another color.\n",
      "\n",
      "What about purple roses? I'm not as sure about that. I think they exist, but they might be less common. They could symbolize royalty or luxury. So purple is another possibility.\n",
      "\n",
      "I've also heard of blue roses, but I'm not sure if they're natural. I think blue roses might be dyed because roses don't naturally have blue pigment. So maybe blue isn't a natural color for roses, but they can be made that way.\n",
      "\n",
      "Then there's lavender, which is a light purple shade. I think lavender roses are real and might symbolize something like love at first sight or enchantment.\n",
      "\n",
      "I've also seen peach-colored roses, which are a mix of pink and orange. They might symbolize gratitude or appreciation.\n",
      "\n",
      "Wait, are there black roses? I think they're more of a deep red or maroon color, but sometimes called black roses. They might symbolize death or mourning.\n",
      "\n",
      "So, putting this all together, roses come in a variety of colors including red, pink, white, yellow, orange, purple, lavender, peach, and even what's referred to as black, though that's usually a very dark red. Blue roses are less common and typically dyed.\n",
      "\n",
      "I should also consider that sometimes roses can have bi-color or tri-color petals, combining different colors in the same flower. So the color of a rose isn't just one solid hue; it can vary quite a bit.\n",
      "\n",
      "In summary, the color of a rose depends on the specific type and can range from red, pink, white, yellow, orange, purple, lavender, peach, and even black, with blue being an exception that's usually achieved through dyeing.\n",
      "</think>\n",
      "\n",
      "The color of a rose can vary widely, depending on the specific type and cultivation. Here is a summary of the common colors and their typical symbolism:\n",
      "\n",
      "1. **Red Roses**: Symbolize love, passion, and romance. They are the most classic and commonly associated color with roses.\n",
      "\n",
      "2. **Pink Roses**: Represent friendship, appreciation, and sometimes love, depending on the shade. Lighter pinks often symbolize admiration, while deeper pinks can express gratitude.\n",
      "\n",
      "3. **White Roses**: Typically symbolize purity, innocence, and new beginnings. They are often used in weddings and to express reverence or respect.\n",
      "\n",
      "4. **Yellow Roses**: Generally represent happiness, joy, and celebration. They can also symbolize friendship and sometimes, in certain contexts, jealousy or disappointment.\n",
      "\n",
      "5. **Orange Roses**: Combine the passion of red roses with the excitement of yellow roses, often symbolizing desire, enthusiasm, and passion.\n",
      "\n",
      "6. **Purple Roses**: Less common, they often symbolize royalty, luxury, and grandeur. They can also represent admiration and fascination.\n",
      "\n",
      "7. **Lavender Roses**: A light purple shade, often symbolizing love at first sight or enchantment.\n",
      "\n",
      "8. **Peach Roses**: A blend of pink and orange, typically representing gratitude, appreciation, and warmth.\n",
      "\n",
      "9. **Black Roses**: Usually a deep red or maroon color, symbolizing death, mourning, or the end of a relationship.\n",
      "\n",
      "10. **Blue Roses**: Not naturally occurring, as roses lack blue pigment. They are typically dyed and often symbolize the extraordinary or the impossible.\n",
      "\n",
      "Additionally, roses can have bi-color or tri-color petals, combining different hues in a single flower. This variety allows roses to convey a wide range of emotions and messages.\n"
     ]
    }
   ],
   "source": [
    "raw_response = response.choices[0].message.content\n",
    "print(raw_response)"
   ]
  },
  {
   "cell_type": "code",
   "execution_count": 7,
   "metadata": {},
   "outputs": [],
   "source": [
    "def format_response(raw_response):\n",
    "    # separate the answer and the thought process\n",
    "    parts = raw_response.split(\"</think>\")\n",
    "\n",
    "    assert len(parts) == 2\n",
    "\n",
    "    thought = parts[0]\n",
    "    # remove the remaining think tag\n",
    "    thought = thought.replace(\"<think>\", \"\").strip()\n",
    "\n",
    "    answer = parts[1]\n",
    "    # remove if there's an \"Answer:\" part\n",
    "    answer = answer.replace(\"Answer:\", \"\").strip()\n",
    "\n",
    "\n",
    "    return thought, answer"
   ]
  },
  {
   "cell_type": "code",
   "execution_count": 8,
   "metadata": {},
   "outputs": [
    {
     "data": {
      "text/plain": [
       "(\"Okay, so I need to figure out the color of a rose. Hmm, I know that roses come in different colors, but I'm not entirely sure about all the possibilities. Let me think about this step by step.\\n\\nFirst, the most common color I associate with roses is red. I've seen red roses in bouquets, in gardens, and they're often used for Valentine's Day or to express love. So red is definitely a color roses can be.\\n\\nBut wait, I've also seen other colors. There are pink roses, right? I think pink roses are pretty common too. They might symbolize different things, like friendship or appreciation. So pink is another color.\\n\\nWhat about white roses? I remember seeing white roses at weddings. They might symbolize purity or innocence. So white is another color.\\n\\nI think there are also yellow roses. I've seen those in some arrangements. They might represent happiness or celebration. So yellow is another color.\\n\\nAre there more colors? I'm trying to recall. I think I've heard of orange roses before. They might be a mix between red and yellow, so maybe they symbolize passion or excitement. So orange is another color.\\n\\nWhat about purple roses? I'm not as sure about that. I think they exist, but they might be less common. They could symbolize royalty or luxury. So purple is another possibility.\\n\\nI've also heard of blue roses, but I'm not sure if they're natural. I think blue roses might be dyed because roses don't naturally have blue pigment. So maybe blue isn't a natural color for roses, but they can be made that way.\\n\\nThen there's lavender, which is a light purple shade. I think lavender roses are real and might symbolize something like love at first sight or enchantment.\\n\\nI've also seen peach-colored roses, which are a mix of pink and orange. They might symbolize gratitude or appreciation.\\n\\nWait, are there black roses? I think they're more of a deep red or maroon color, but sometimes called black roses. They might symbolize death or mourning.\\n\\nSo, putting this all together, roses come in a variety of colors including red, pink, white, yellow, orange, purple, lavender, peach, and even what's referred to as black, though that's usually a very dark red. Blue roses are less common and typically dyed.\\n\\nI should also consider that sometimes roses can have bi-color or tri-color petals, combining different colors in the same flower. So the color of a rose isn't just one solid hue; it can vary quite a bit.\\n\\nIn summary, the color of a rose depends on the specific type and can range from red, pink, white, yellow, orange, purple, lavender, peach, and even black, with blue being an exception that's usually achieved through dyeing.\",\n",
       " 'The color of a rose can vary widely, depending on the specific type and cultivation. Here is a summary of the common colors and their typical symbolism:\\n\\n1. **Red Roses**: Symbolize love, passion, and romance. They are the most classic and commonly associated color with roses.\\n\\n2. **Pink Roses**: Represent friendship, appreciation, and sometimes love, depending on the shade. Lighter pinks often symbolize admiration, while deeper pinks can express gratitude.\\n\\n3. **White Roses**: Typically symbolize purity, innocence, and new beginnings. They are often used in weddings and to express reverence or respect.\\n\\n4. **Yellow Roses**: Generally represent happiness, joy, and celebration. They can also symbolize friendship and sometimes, in certain contexts, jealousy or disappointment.\\n\\n5. **Orange Roses**: Combine the passion of red roses with the excitement of yellow roses, often symbolizing desire, enthusiasm, and passion.\\n\\n6. **Purple Roses**: Less common, they often symbolize royalty, luxury, and grandeur. They can also represent admiration and fascination.\\n\\n7. **Lavender Roses**: A light purple shade, often symbolizing love at first sight or enchantment.\\n\\n8. **Peach Roses**: A blend of pink and orange, typically representing gratitude, appreciation, and warmth.\\n\\n9. **Black Roses**: Usually a deep red or maroon color, symbolizing death, mourning, or the end of a relationship.\\n\\n10. **Blue Roses**: Not naturally occurring, as roses lack blue pigment. They are typically dyed and often symbolize the extraordinary or the impossible.\\n\\nAdditionally, roses can have bi-color or tri-color petals, combining different hues in a single flower. This variety allows roses to convey a wide range of emotions and messages.')"
      ]
     },
     "execution_count": 8,
     "metadata": {},
     "output_type": "execute_result"
    }
   ],
   "source": [
    "format_response(raw_response)"
   ]
  },
  {
   "cell_type": "code",
   "execution_count": 14,
   "metadata": {},
   "outputs": [],
   "source": [
    "class LLMEngine:\n",
    "    def __init__(self, api_key, model, base_url, system_input):\n",
    "        self.api_key = api_key\n",
    "        self.base_url = base_url\n",
    "        self.model = model\n",
    "        self.system_input = system_input\n",
    "        \n",
    "    def __prepare_inference_input(self, user_input):\n",
    "        messages = []\n",
    "        if self.system_input:\n",
    "            messages.append(\n",
    "                {\"role\": \"system\", \"content\": self.system_input}\n",
    "            )\n",
    "        if user_input:\n",
    "            messages.append(\n",
    "                {\"role\": \"user\", \"content\": user_input}\n",
    "            )\n",
    "            \n",
    "        return messages\n",
    "        \n",
    "    def __generate_raw_response(self, user_input, temperature=0.1):\n",
    "        messages = self.__prepare_inference_input(user_input)\n",
    "        assert messages\n",
    "        \n",
    "        client = OpenAI(\n",
    "            api_key=self.api_key, \n",
    "            base_url=self.base_url,\n",
    "        )\n",
    "        \n",
    "        response = client.chat.completions.create(\n",
    "            messages = messages,\n",
    "            temperature = temperature,\n",
    "            model = self.model\n",
    "        )\n",
    "        \n",
    "        return response.choices[0].message.content\n",
    "    \n",
    "    def generate(self, user_input):\n",
    "        raw_response = self.__generate_raw_response(user_input)\n",
    "        formatted = format_response(raw_response)\n",
    "        return formatted\n",
    "        \n",
    "    def format_response(self, raw_response):\n",
    "        pass\n",
    "        "
   ]
  },
  {
   "cell_type": "code",
   "execution_count": 15,
   "metadata": {},
   "outputs": [],
   "source": [
    "class DeepSeekR1Engine(LLMEngine):\n",
    "    def __init__(self, api_key, model, base_url, system_input):\n",
    "        super().__init__(api_key, model, base_url, system_input)\n",
    "        \n",
    "    def format_response(raw_response):\n",
    "        # separate the answer and the thought process\n",
    "        parts = raw_response.split(\"</think>\")\n",
    "\n",
    "        assert len(parts) == 2\n",
    "\n",
    "        thought = parts[0]\n",
    "        # remove the remaining think tag\n",
    "        thought = thought.replace(\"<think>\", \"\").strip()\n",
    "\n",
    "        answer = parts[1]\n",
    "        # remove if there's an \"Answer:\" part\n",
    "        answer = answer.replace(\"Answer:\", \"\").strip()\n",
    "\n",
    "\n",
    "        return thought, answer\n",
    "    "
   ]
  },
  {
   "cell_type": "code",
   "execution_count": 16,
   "metadata": {},
   "outputs": [],
   "source": [
    "r1_engine = DeepSeekR1Engine(\n",
    "    api_key=os.getenv(\"LLM_API_KEY\"),\n",
    "    base_url=os.getenv(\"LLM_BASE_URL\"),\n",
    "    model=os.getenv(\"LLM_MODEL_NAME\"),\n",
    "    system_input=None\n",
    ")"
   ]
  },
  {
   "cell_type": "code",
   "execution_count": 17,
   "metadata": {},
   "outputs": [
    {
     "data": {
      "text/plain": [
       "(\"Okay, so I need to figure out the color of a rose. Hmm, roses are flowers, right? I remember seeing them in gardens and in bouquets. But wait, what color are they exactly? I think they come in different colors, but I'm not entirely sure. Let me try to recall.\\n\\nI know that red roses are really common, especially on Valentine's Day. People give red roses as a symbol of love. But are all roses red? I don't think so. I've seen pink roses too, maybe even white ones. Oh, and I think there are yellow roses as well. So, does that mean roses can be multiple colors?\\n\\nWait, maybe I should think about why roses have different colors. Is it just for looks, or does each color have a different meaning? I remember hearing that different colored roses can symbolize different things. Like red for love, pink for appreciation or friendship, white for purity or weddings, and yellow for happiness or celebration. So, if that's the case, then roses aren't just one color; they come in various colors depending on the message they're conveying.\\n\\nBut then, what determines the color of a rose? Is it the type of rose, or can florists dye them? I think florists can dye roses different colors, like blue or even black, which might not be their natural colors. So, in nature, roses have specific colors, but with human intervention, they can be dyed into more vibrant or unusual hues.\\n\\nI should also consider if there are any rare colors. I've heard of blue roses before, but I'm not sure if they exist naturally. Maybe they're created through dyeing or genetic modification. Similarly, I think there are lavender or purple roses, which might be natural or dyed.\\n\\nSo, putting it all together, the color of a rose isn't just one color. They naturally come in red, pink, white, yellow, and maybe others like orange or coral. Florists can also dye them into other colors for special occasions or aesthetics. Each color can have its own meaning, so the color of a rose can vary based on its type and how it's used.\\n\\nI wonder if there are any cultural differences in the colors of roses. Maybe in some cultures, certain colors are more prevalent or have different meanings. Also, in nature, the color might depend on the soil, climate, and specific species of the rose plant.\\n\\nWait, I should also think about whether all parts of the rose are the same color. The petals are usually the colored part, but the stem and leaves are green. So, when someone refers to the color of a rose, they're usually talking about the petals.\\n\\nIn summary, roses come in a variety of colors, both naturally and through dyeing. The most common colors are red, pink, white, and yellow, each with its own symbolic meaning. So, the color of a rose isn't just one color; it can vary widely.\",\n",
       " 'The color of a rose is not limited to a single hue; roses come in a variety of colors, each carrying its own symbolic meaning. Naturally, roses are found in colors such as red, pink, white, and yellow. Red roses symbolize love, pink represents appreciation or friendship, white signifies purity or celebration, and yellow denotes happiness. Additionally, through dyeing or genetic modification, roses can be found in other colors like blue, lavender, or purple. Thus, the color of a rose can vary widely, depending on its type, natural occurrence, or human intervention.')"
      ]
     },
     "execution_count": 17,
     "metadata": {},
     "output_type": "execute_result"
    }
   ],
   "source": [
    "r1_engine.generate(\"what is the colour of a rose?\")"
   ]
  },
  {
   "cell_type": "code",
   "execution_count": null,
   "metadata": {},
   "outputs": [],
   "source": []
  }
 ],
 "metadata": {
  "kernelspec": {
   "display_name": "sprachhilfer-KjgKKwqq-py3.12",
   "language": "python",
   "name": "python3"
  },
  "language_info": {
   "codemirror_mode": {
    "name": "ipython",
    "version": 3
   },
   "file_extension": ".py",
   "mimetype": "text/x-python",
   "name": "python",
   "nbconvert_exporter": "python",
   "pygments_lexer": "ipython3",
   "version": "3.12.8"
  }
 },
 "nbformat": 4,
 "nbformat_minor": 2
}
