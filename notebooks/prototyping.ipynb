{
 "cells": [
  {
   "cell_type": "code",
   "execution_count": 1,
   "metadata": {},
   "outputs": [
    {
     "data": {
      "text/plain": [
       "True"
      ]
     },
     "execution_count": 1,
     "metadata": {},
     "output_type": "execute_result"
    }
   ],
   "source": [
    "import os\n",
    "from dotenv import load_dotenv\n",
    "\n",
    "load_dotenv(override=True)"
   ]
  },
  {
   "cell_type": "code",
   "execution_count": 2,
   "metadata": {},
   "outputs": [],
   "source": [
    "from openai import OpenAI\n",
    "\n",
    "client = OpenAI(\n",
    "    api_key=os.getenv(\"LLM_API_KEY\"), \n",
    "    base_url=os.getenv(\"LLM_BASE_URL\"),\n",
    ")"
   ]
  },
  {
   "cell_type": "code",
   "execution_count": 3,
   "metadata": {},
   "outputs": [],
   "source": [
    "response = client.chat.completions.create(\n",
    "    messages=[\n",
    "        {\"role\": \"user\", \"content\": \"What is the colour of a rose?\"}\n",
    "    ],\n",
    "    temperature=0.1,\n",
    "    model=os.getenv(\"LLM_MODEL_NAME\")\n",
    ")"
   ]
  },
  {
   "cell_type": "code",
   "execution_count": 6,
   "metadata": {},
   "outputs": [
    {
     "name": "stdout",
     "output_type": "stream",
     "text": [
      "<think>\n",
      "Okay, so I need to figure out the color of a rose. Hmm, I know that roses come in different colors, but I'm not entirely sure about all the possibilities. Let me think about this step by step.\n",
      "\n",
      "First, the most common color I associate with roses is red. I've seen red roses in bouquets, in gardens, and they're often used for Valentine's Day or to express love. So red is definitely a color roses can be.\n",
      "\n",
      "But wait, I've also seen other colors. There are pink roses, right? I think pink roses are pretty common too. They might symbolize different things, like friendship or appreciation. So pink is another color.\n",
      "\n",
      "What about white roses? I remember seeing white roses at weddings. They might symbolize purity or innocence. So white is another color.\n",
      "\n",
      "I think there are also yellow roses. I've seen those in some arrangements. They might represent happiness or celebration. So yellow is another color.\n",
      "\n",
      "Are there more colors? I'm trying to recall. I think I've heard of orange roses before. They might be a mix between red and yellow, so maybe they symbolize passion or excitement. So orange is another color.\n",
      "\n",
      "What about purple roses? I'm not as sure about that. I think they exist, but they might be less common. They could symbolize royalty or luxury. So purple is another possibility.\n",
      "\n",
      "I've also heard of blue roses, but I'm not sure if they're natural. I think blue roses might be dyed because roses don't naturally have blue pigment. So maybe blue isn't a natural color for roses, but they can be made that way.\n",
      "\n",
      "Then there's lavender, which is a light purple shade. I think lavender roses are real and might symbolize something like love at first sight or enchantment.\n",
      "\n",
      "I've also seen peach-colored roses, which are a mix of pink and orange. They might symbolize gratitude or appreciation.\n",
      "\n",
      "Wait, are there black roses? I think they're more of a deep red or maroon color, but sometimes called black roses. They might symbolize death or mourning.\n",
      "\n",
      "So, putting this all together, roses come in a variety of colors including red, pink, white, yellow, orange, purple, lavender, peach, and even what's referred to as black, though that's usually a very dark red. Blue roses are less common and typically dyed.\n",
      "\n",
      "I should also consider that sometimes roses can have bi-color or tri-color petals, combining different colors in the same flower. So the color of a rose isn't just one solid hue; it can vary quite a bit.\n",
      "\n",
      "In summary, the color of a rose depends on the specific type and can range from red, pink, white, yellow, orange, purple, lavender, peach, and even black, with blue being an exception that's usually achieved through dyeing.\n",
      "</think>\n",
      "\n",
      "The color of a rose can vary widely, depending on the specific type and cultivation. Here is a summary of the common colors and their typical symbolism:\n",
      "\n",
      "1. **Red Roses**: Symbolize love, passion, and romance. They are the most classic and commonly associated color with roses.\n",
      "\n",
      "2. **Pink Roses**: Represent friendship, appreciation, and sometimes love, depending on the shade. Lighter pinks often symbolize admiration, while deeper pinks can express gratitude.\n",
      "\n",
      "3. **White Roses**: Typically symbolize purity, innocence, and new beginnings. They are often used in weddings and to express reverence or respect.\n",
      "\n",
      "4. **Yellow Roses**: Generally represent happiness, joy, and celebration. They can also symbolize friendship and sometimes, in certain contexts, jealousy or disappointment.\n",
      "\n",
      "5. **Orange Roses**: Combine the passion of red roses with the excitement of yellow roses, often symbolizing desire, enthusiasm, and passion.\n",
      "\n",
      "6. **Purple Roses**: Less common, they often symbolize royalty, luxury, and grandeur. They can also represent admiration and fascination.\n",
      "\n",
      "7. **Lavender Roses**: A light purple shade, often symbolizing love at first sight or enchantment.\n",
      "\n",
      "8. **Peach Roses**: A blend of pink and orange, typically representing gratitude, appreciation, and warmth.\n",
      "\n",
      "9. **Black Roses**: Usually a deep red or maroon color, symbolizing death, mourning, or the end of a relationship.\n",
      "\n",
      "10. **Blue Roses**: Not naturally occurring, as roses lack blue pigment. They are typically dyed and often symbolize the extraordinary or the impossible.\n",
      "\n",
      "Additionally, roses can have bi-color or tri-color petals, combining different hues in a single flower. This variety allows roses to convey a wide range of emotions and messages.\n"
     ]
    }
   ],
   "source": [
    "raw_response = response.choices[0].message.content\n",
    "print(raw_response)"
   ]
  },
  {
   "cell_type": "code",
   "execution_count": 7,
   "metadata": {},
   "outputs": [],
   "source": [
    "def format_response(raw_response):\n",
    "    # separate the answer and the thought process\n",
    "    parts = raw_response.split(\"</think>\")\n",
    "\n",
    "    assert len(parts) == 2\n",
    "\n",
    "    thought = parts[0]\n",
    "    # remove the remaining think tag\n",
    "    thought = thought.replace(\"<think>\", \"\").strip()\n",
    "\n",
    "    answer = parts[1]\n",
    "    # remove if there's an \"Answer:\" part\n",
    "    answer = answer.replace(\"Answer:\", \"\").strip()\n",
    "\n",
    "\n",
    "    return thought, answer"
   ]
  },
  {
   "cell_type": "code",
   "execution_count": 8,
   "metadata": {},
   "outputs": [
    {
     "data": {
      "text/plain": [
       "(\"Okay, so I need to figure out the color of a rose. Hmm, I know that roses come in different colors, but I'm not entirely sure about all the possibilities. Let me think about this step by step.\\n\\nFirst, the most common color I associate with roses is red. I've seen red roses in bouquets, in gardens, and they're often used for Valentine's Day or to express love. So red is definitely a color roses can be.\\n\\nBut wait, I've also seen other colors. There are pink roses, right? I think pink roses are pretty common too. They might symbolize different things, like friendship or appreciation. So pink is another color.\\n\\nWhat about white roses? I remember seeing white roses at weddings. They might symbolize purity or innocence. So white is another color.\\n\\nI think there are also yellow roses. I've seen those in some arrangements. They might represent happiness or celebration. So yellow is another color.\\n\\nAre there more colors? I'm trying to recall. I think I've heard of orange roses before. They might be a mix between red and yellow, so maybe they symbolize passion or excitement. So orange is another color.\\n\\nWhat about purple roses? I'm not as sure about that. I think they exist, but they might be less common. They could symbolize royalty or luxury. So purple is another possibility.\\n\\nI've also heard of blue roses, but I'm not sure if they're natural. I think blue roses might be dyed because roses don't naturally have blue pigment. So maybe blue isn't a natural color for roses, but they can be made that way.\\n\\nThen there's lavender, which is a light purple shade. I think lavender roses are real and might symbolize something like love at first sight or enchantment.\\n\\nI've also seen peach-colored roses, which are a mix of pink and orange. They might symbolize gratitude or appreciation.\\n\\nWait, are there black roses? I think they're more of a deep red or maroon color, but sometimes called black roses. They might symbolize death or mourning.\\n\\nSo, putting this all together, roses come in a variety of colors including red, pink, white, yellow, orange, purple, lavender, peach, and even what's referred to as black, though that's usually a very dark red. Blue roses are less common and typically dyed.\\n\\nI should also consider that sometimes roses can have bi-color or tri-color petals, combining different colors in the same flower. So the color of a rose isn't just one solid hue; it can vary quite a bit.\\n\\nIn summary, the color of a rose depends on the specific type and can range from red, pink, white, yellow, orange, purple, lavender, peach, and even black, with blue being an exception that's usually achieved through dyeing.\",\n",
       " 'The color of a rose can vary widely, depending on the specific type and cultivation. Here is a summary of the common colors and their typical symbolism:\\n\\n1. **Red Roses**: Symbolize love, passion, and romance. They are the most classic and commonly associated color with roses.\\n\\n2. **Pink Roses**: Represent friendship, appreciation, and sometimes love, depending on the shade. Lighter pinks often symbolize admiration, while deeper pinks can express gratitude.\\n\\n3. **White Roses**: Typically symbolize purity, innocence, and new beginnings. They are often used in weddings and to express reverence or respect.\\n\\n4. **Yellow Roses**: Generally represent happiness, joy, and celebration. They can also symbolize friendship and sometimes, in certain contexts, jealousy or disappointment.\\n\\n5. **Orange Roses**: Combine the passion of red roses with the excitement of yellow roses, often symbolizing desire, enthusiasm, and passion.\\n\\n6. **Purple Roses**: Less common, they often symbolize royalty, luxury, and grandeur. They can also represent admiration and fascination.\\n\\n7. **Lavender Roses**: A light purple shade, often symbolizing love at first sight or enchantment.\\n\\n8. **Peach Roses**: A blend of pink and orange, typically representing gratitude, appreciation, and warmth.\\n\\n9. **Black Roses**: Usually a deep red or maroon color, symbolizing death, mourning, or the end of a relationship.\\n\\n10. **Blue Roses**: Not naturally occurring, as roses lack blue pigment. They are typically dyed and often symbolize the extraordinary or the impossible.\\n\\nAdditionally, roses can have bi-color or tri-color petals, combining different hues in a single flower. This variety allows roses to convey a wide range of emotions and messages.')"
      ]
     },
     "execution_count": 8,
     "metadata": {},
     "output_type": "execute_result"
    }
   ],
   "source": [
    "format_response(raw_response)"
   ]
  },
  {
   "cell_type": "code",
   "execution_count": 18,
   "metadata": {},
   "outputs": [],
   "source": [
    "class LLMEngine:\n",
    "    def __init__(self, api_key, model, base_url, system_input):\n",
    "        self.api_key = api_key\n",
    "        self.base_url = base_url\n",
    "        self.model = model\n",
    "        self.system_input = system_input\n",
    "        \n",
    "    def __prepare_inference_input(self, user_input):\n",
    "        messages = []\n",
    "        if self.system_input:\n",
    "            messages.append(\n",
    "                {\"role\": \"system\", \"content\": self.system_input}\n",
    "            )\n",
    "        if user_input:\n",
    "            messages.append(\n",
    "                {\"role\": \"user\", \"content\": user_input}\n",
    "            )\n",
    "            \n",
    "        return messages\n",
    "        \n",
    "    def __generate_raw_response(self, user_input, temperature=0.1):\n",
    "        messages = self.__prepare_inference_input(user_input)\n",
    "        assert messages\n",
    "        \n",
    "        client = OpenAI(\n",
    "            api_key=self.api_key, \n",
    "            base_url=self.base_url,\n",
    "        )\n",
    "        \n",
    "        response = client.chat.completions.create(\n",
    "            messages = messages,\n",
    "            temperature = temperature,\n",
    "            model = self.model\n",
    "        )\n",
    "        \n",
    "        return response.choices[0].message.content\n",
    "    \n",
    "    def generate(self, user_input):\n",
    "        raw_response = self.__generate_raw_response(user_input)\n",
    "        formatted = self.format_response(raw_response)\n",
    "        return formatted\n",
    "        \n",
    "    def format_response(self, raw_response):\n",
    "        pass\n",
    "        "
   ]
  },
  {
   "cell_type": "code",
   "execution_count": 22,
   "metadata": {},
   "outputs": [],
   "source": [
    "class DeepSeekR1Engine(LLMEngine):\n",
    "    def __init__(self, api_key, model, base_url, system_input):\n",
    "        super().__init__(api_key, model, base_url, system_input)\n",
    "        \n",
    "    def format_response(self, raw_response):\n",
    "        # separate the answer and the thought process\n",
    "        parts = raw_response.split(\"</think>\")\n",
    "\n",
    "        assert len(parts) == 2\n",
    "\n",
    "        thought = parts[0]\n",
    "        # remove the remaining think tag\n",
    "        thought = thought.replace(\"<think>\", \"\").strip()\n",
    "\n",
    "        answer = parts[1]\n",
    "        # remove if there's an \"Answer:\" part\n",
    "        answer = answer.replace(\"Answer:\", \"\").strip()\n",
    "\n",
    "\n",
    "        return thought, answer\n",
    "    "
   ]
  },
  {
   "cell_type": "code",
   "execution_count": 23,
   "metadata": {},
   "outputs": [],
   "source": [
    "r1_engine = DeepSeekR1Engine(\n",
    "    api_key=os.getenv(\"LLM_API_KEY\"),\n",
    "    base_url=os.getenv(\"LLM_BASE_URL\"),\n",
    "    model=os.getenv(\"LLM_MODEL_NAME\"),\n",
    "    system_input=None\n",
    ")"
   ]
  },
  {
   "cell_type": "code",
   "execution_count": 24,
   "metadata": {},
   "outputs": [
    {
     "data": {
      "text/plain": [
       "(\"Okay, so I need to figure out the color of a rose. Hmm, I know that roses are often associated with red, especially when people talk about love or Valentine's Day. But wait, I've also seen roses in other colors. Let me think about this.\\n\\nI remember seeing pink roses before. They might symbolize something different, like friendship or appreciation. Then there are white roses, which I think are used in weddings or to show purity. Oh, and I've heard of yellow roses too; maybe they represent happiness or congratulations. But are there more colors than that?\\n\\nI think I've seen some roses that are a mix of colors, like bi-colored or tri-colored. Those might be created by growers for specific occasions or just for variety. Also, I'm not sure if all colors are natural or if some are dyed. For example, I've seen blue roses in bouquets, but I don't think they grow that color naturally. They might be dyed to achieve that color.\\n\\nSo, putting this together, roses come in a variety of colors beyond just red. Each color can have different meanings, and some colors might be achieved through dyeing. I should also consider if there are any less common colors, like lavender or orange roses. I think those exist too, maybe symbolizing love at first sight or passion, respectively.\\n\\nWait, but the question is just asking for the color of a rose, not the meanings. So, the answer is that roses come in many colors, including red, pink, white, yellow, and others, both natural and dyed. I should make sure to mention that while red is the most common, there's a wide range of colors available.\",\n",
       " 'Roses are available in a variety of colors, each with its own significance. While red roses are the most commonly associated with roses and symbolize love, roses also naturally come in colors such as pink, white, and yellow. Additionally, through dyeing, roses can be found in other hues like blue, lavender, and orange. Thus, the color of a rose can vary widely, including red, pink, white, yellow, and more, both naturally and through dyeing.')"
      ]
     },
     "execution_count": 24,
     "metadata": {},
     "output_type": "execute_result"
    }
   ],
   "source": [
    "r1_engine.generate(\"what is the colour of a rose?\")"
   ]
  },
  {
   "cell_type": "code",
   "execution_count": null,
   "metadata": {},
   "outputs": [],
   "source": []
  }
 ],
 "metadata": {
  "kernelspec": {
   "display_name": "sprachhilfer-KjgKKwqq-py3.12",
   "language": "python",
   "name": "python3"
  },
  "language_info": {
   "codemirror_mode": {
    "name": "ipython",
    "version": 3
   },
   "file_extension": ".py",
   "mimetype": "text/x-python",
   "name": "python",
   "nbconvert_exporter": "python",
   "pygments_lexer": "ipython3",
   "version": "3.12.8"
  }
 },
 "nbformat": 4,
 "nbformat_minor": 2
}
